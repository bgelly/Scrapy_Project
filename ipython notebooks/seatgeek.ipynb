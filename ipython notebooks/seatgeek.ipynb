{
 "cells": [
  {
   "cell_type": "code",
   "execution_count": 77,
   "metadata": {},
   "outputs": [],
   "source": [
    "import numpy as np\n",
    "import pandas as pd\n",
    "import re"
   ]
  },
  {
   "cell_type": "code",
   "execution_count": 78,
   "metadata": {},
   "outputs": [],
   "source": [
    "seatgeek = pd.read_csv('seatgeek/seatgeek.csv', encoding = 'latin-1')"
   ]
  },
  {
   "cell_type": "code",
   "execution_count": 79,
   "metadata": {},
   "outputs": [],
   "source": [
    "# drop blank rows\n",
    "seatgeek = seatgeek[seatgeek.artist_name.notnull()]"
   ]
  },
  {
   "cell_type": "code",
   "execution_count": 80,
   "metadata": {},
   "outputs": [],
   "source": [
    "# strip white space from variables\n",
    "seatgeek.time = seatgeek.time.str.strip()\n",
    "seatgeek.price = seatgeek.price.str.strip()\n",
    "seatgeek.date = seatgeek.date.str.strip()\n",
    "\n"
   ]
  },
  {
   "cell_type": "code",
   "execution_count": 81,
   "metadata": {},
   "outputs": [],
   "source": [
    "# change find tickets in price to no_resale\n",
    "seatgeek.price[seatgeek.price == \"Find Tickets\"] = \"No_resale\""
   ]
  },
  {
   "cell_type": "code",
   "execution_count": 43,
   "metadata": {},
   "outputs": [
    {
     "data": {
      "text/plain": [
       "'From $58'"
      ]
     },
     "execution_count": 43,
     "metadata": {},
     "output_type": "execute_result"
    }
   ],
   "source": [
    "m = re.search(\"(From) \\$\\d+\", \"From $58\")\n",
    "m.group(0)"
   ]
  },
  {
   "cell_type": "code",
   "execution_count": 82,
   "metadata": {},
   "outputs": [],
   "source": [
    "# clean price\n",
    "\n",
    "def price(x):\n",
    "    clean_price = []\n",
    "    for i in x:\n",
    "        if re.search(\"(From) \\$\\d+\", i) is not None:\n",
    "            m = re.search(\"\\d+\", i)\n",
    "            clean_price.append(m.group(0))\n",
    "            \n",
    "        else:\n",
    "            clean_price.append(i)\n",
    "    return clean_price"
   ]
  },
  {
   "cell_type": "code",
   "execution_count": 83,
   "metadata": {},
   "outputs": [],
   "source": [
    "seatgeek.price = price(seatgeek.price)"
   ]
  },
  {
   "cell_type": "code",
   "execution_count": 84,
   "metadata": {},
   "outputs": [],
   "source": [
    "# clean date\n",
    "\n",
    "def date(x):\n",
    "    clean_date = []\n",
    "    for i in x:\n",
    "        m= re.search(\"[A-Z][a-z]+ *\\d+\", i)\n",
    "        clean_date.append(m.group(0))\n",
    "\n",
    "    return clean_date"
   ]
  },
  {
   "cell_type": "code",
   "execution_count": 85,
   "metadata": {},
   "outputs": [],
   "source": [
    "seatgeek.date = date(seatgeek.date)\n"
   ]
  },
  {
   "cell_type": "code",
   "execution_count": 86,
   "metadata": {},
   "outputs": [],
   "source": [
    "def clean_headliner(x):\n",
    "    clean_headliner= []\n",
    "    for i in x:\n",
    "        if re.search('\\(', i) is not None:\n",
    "            clean_headliner.append(re.sub('\\(.*?\\)', '', i).strip())\n",
    "            \n",
    "        elif re.search('(?<=: ).*$', i) is not None:\n",
    "            m = re.search('(?<=: ).*$', i)\n",
    "            clean_headliner.append(m.group(0))\n",
    "            \n",
    "        elif re.search('.+?(?= -)', i) is not None:\n",
    "            m = re.search('.+?(?= -)', i)\n",
    "            clean_headliner.append(m.group(0))\n",
    "            \n",
    "        else:\n",
    "            clean_headliner.append(i)\n",
    "    return clean_headliner"
   ]
  },
  {
   "cell_type": "code",
   "execution_count": 89,
   "metadata": {},
   "outputs": [],
   "source": [
    "seatgeek.artist_name = clean_headliner(seatgeek.artist_name)"
   ]
  },
  {
   "cell_type": "code",
   "execution_count": 104,
   "metadata": {},
   "outputs": [],
   "source": [
    "#price to int\n",
    "def price_to_int(x):\n",
    "    clean_other_artists = []\n",
    "    for i in x:\n",
    "        try:\n",
    "            i = int(i)\n",
    "            clean_other_artists.append(i)\n",
    "\n",
    "        except:\n",
    "            clean_other_artists.append(i)\n",
    "    return clean_other_artists"
   ]
  },
  {
   "cell_type": "code",
   "execution_count": 106,
   "metadata": {},
   "outputs": [],
   "source": [
    "seatgeek.price = price_to_int(seatgeek.price)"
   ]
  },
  {
   "cell_type": "code",
   "execution_count": 112,
   "metadata": {},
   "outputs": [
    {
     "name": "stdout",
     "output_type": "stream",
     "text": [
      "Stored 'seatgeek' (DataFrame)\n"
     ]
    }
   ],
   "source": [
    "%store seatgeek\n"
   ]
  },
  {
   "cell_type": "code",
   "execution_count": null,
   "metadata": {
    "collapsed": true
   },
   "outputs": [],
   "source": []
  }
 ],
 "metadata": {
  "kernelspec": {
   "display_name": "Python 3",
   "language": "python",
   "name": "python3"
  },
  "language_info": {
   "codemirror_mode": {
    "name": "ipython",
    "version": 3
   },
   "file_extension": ".py",
   "mimetype": "text/x-python",
   "name": "python",
   "nbconvert_exporter": "python",
   "pygments_lexer": "ipython3",
   "version": "3.6.3"
  }
 },
 "nbformat": 4,
 "nbformat_minor": 2
}
