{
 "cells": [
  {
   "cell_type": "code",
   "execution_count": 192,
   "metadata": {
    "collapsed": true
   },
   "outputs": [],
   "source": [
    "import numpy as np\n",
    "import pandas as pd\n",
    "import re\n",
    "from datetime import datetime\n",
    "import time"
   ]
  },
  {
   "cell_type": "code",
   "execution_count": null,
   "metadata": {
    "collapsed": true
   },
   "outputs": [],
   "source": [
    "%store -r boweryWorking\n",
    "%store -r seatgeek"
   ]
  },
  {
   "cell_type": "code",
   "execution_count": 10,
   "metadata": {
    "collapsed": true
   },
   "outputs": [],
   "source": [
    "#pop to float\n",
    "def pop_to_float(x):\n",
    "    pop_to_int = []\n",
    "    for i in x:\n",
    "        try:\n",
    "            i = float(i)\n",
    "            pop_to_int.append(i)\n",
    "\n",
    "        except:\n",
    "            pop_to_int.append(i)\n",
    "    return pop_to_int"
   ]
  },
  {
   "cell_type": "code",
   "execution_count": 49,
   "metadata": {},
   "outputs": [],
   "source": [
    "# missing pop to 0\n",
    "boweryWorking.artist2_popularity = np.where(boweryWorking['artist2_popularity'].notnull(), boweryWorking['artist2_popularity'], 0)\n",
    "boweryWorking.artist_popularityO1 = np.where(boweryWorking['artist_popularityO1'].notnull(), boweryWorking['artist_popularityO1'], 0)\n",
    "boweryWorking.artist_popularityO2 = np.where(boweryWorking['artist_popularityO2'].notnull(), boweryWorking['artist_popularityO2'], 0)\n",
    "\n",
    "boweryWorking.artist2_followers = np.where(boweryWorking['artist2_followers'] == np.nan, boweryWorking['artist2_followers'], 0)\n",
    "boweryWorking.artist_followersO1 = np.where(boweryWorking['artist_followersO1'] == np.nan, boweryWorking['artist_followersO1'], 0)\n",
    "boweryWorking.artist_followersO2 = np.where(boweryWorking['artist_followersO2'] == np.nan, boweryWorking['artist_followersO2'], 0)\n",
    "\n",
    "\n",
    "\n"
   ]
  },
  {
   "cell_type": "code",
   "execution_count": 50,
   "metadata": {},
   "outputs": [],
   "source": [
    "boweryWorking['total_pop'] = boweryWorking['artist_popularity'] + boweryWorking['artist2_popularity'] + boweryWorking['artist_popularityO1'] + boweryWorking['artist_popularityO2']\n",
    "boweryWorking['total_fol'] = boweryWorking['artist_followers'] + boweryWorking['artist2_followers'] + boweryWorking['artist_followersO1'] + boweryWorking['artist_followersO2']\n",
    "\n",
    "\n"
   ]
  },
  {
   "cell_type": "code",
   "execution_count": 69,
   "metadata": {},
   "outputs": [],
   "source": [
    "# day scrape to show as float\n",
    "def scrapeNum(x):\n",
    "    num1 = []\n",
    "    for i in x:\n",
    "        m = re.search(\"^\\d+\", str(i))\n",
    "        num1.append(m.group(0))\n",
    "    return num1"
   ]
  },
  {
   "cell_type": "code",
   "execution_count": 71,
   "metadata": {},
   "outputs": [],
   "source": [
    "boweryWorking.days_scrape_to_show = scrapeNum(boweryWorking.days_scrape_to_show)"
   ]
  },
  {
   "cell_type": "code",
   "execution_count": 75,
   "metadata": {},
   "outputs": [],
   "source": [
    "# make primary price column which is adv price high, else door price, else adv price low\n",
    "boweryWorking['primary_price'] = np.where(boweryWorking['adv_price_high'].notnull(), \n",
    "                                          boweryWorking['adv_price_high'], \n",
    "                                          np.where(boweryWorking['door_price'].notnull(), \n",
    "                                                            boweryWorking['door_price'], \n",
    "                                                            boweryWorking['adv_price_low']))"
   ]
  },
  {
   "cell_type": "code",
   "execution_count": 80,
   "metadata": {},
   "outputs": [],
   "source": [
    "boweryData = boweryWorking.drop(['door_price', 'adv_price_low', 'adv_price_high', \n",
    "                          'artist2_followers',  'artist2_popularity',\n",
    "                          'artist_followersO1', 'artist_popularityO1',\n",
    "                          'artist_followersO2',  'artist_popularityO2'\n",
    "                         ], axis=1, inplace=False)"
   ]
  },
  {
   "cell_type": "code",
   "execution_count": 176,
   "metadata": {
    "collapsed": true
   },
   "outputs": [],
   "source": [
    "# clean concert venues for merge\n",
    "# drop venues with less than 4 shows\n",
    "# fete music hall combine ballroom and lounge\n",
    "# royale to royale boston...etc"
   ]
  },
  {
   "cell_type": "code",
   "execution_count": 98,
   "metadata": {},
   "outputs": [],
   "source": [
    "venueGroups = boweryWorking.groupby('venue')['venue']\n",
    "venueGroups  = venueGroups.size()\n",
    "dropVenues = pd.DataFrame(venueGroups[venueGroups<4])"
   ]
  },
  {
   "cell_type": "code",
   "execution_count": 149,
   "metadata": {},
   "outputs": [],
   "source": [
    "venues = list(dropVenues.index)"
   ]
  },
  {
   "cell_type": "code",
   "execution_count": 144,
   "metadata": {},
   "outputs": [],
   "source": [
    "boweryData = boweryData[~boweryData['venue'].isin(venues)]"
   ]
  },
  {
   "cell_type": "code",
   "execution_count": 153,
   "metadata": {},
   "outputs": [
    {
     "data": {
      "text/plain": [
       "venue\n",
       "Aisle 5                        5\n",
       "Brooklyn Steel                43\n",
       "Fête Music Hall - Ballroom     5\n",
       "Fête Music Hall - Lounge       4\n",
       "Gasa Gasa                     17\n",
       "Great Scott                   50\n",
       "Music Hall of Williamsburg    38\n",
       "Rams Head Live!               22\n",
       "Rough Trade NYC               44\n",
       "Royale                        19\n",
       "Saturn                        27\n",
       "Starland Ballroom              6\n",
       "Terminal 5                     7\n",
       "Terminal West                  9\n",
       "The EARL                       6\n",
       "The National                  31\n",
       "The NorVa                     28\n",
       "The Sinclair                  55\n",
       "Underground Arts              14\n",
       "Variety Playhouse              7\n",
       "dtype: int64"
      ]
     },
     "execution_count": 153,
     "metadata": {},
     "output_type": "execute_result"
    }
   ],
   "source": [
    "vg = boweryData.groupby('venue')\n",
    "vg.size()"
   ]
  },
  {
   "cell_type": "code",
   "execution_count": 172,
   "metadata": {},
   "outputs": [],
   "source": [
    "# make venue name the same for merge\n",
    "mergeVenues = np.where(boweryData['venue'] == \"Fête Music Hall - Ballroom\", \"Fete Music Hall\", \n",
    "         np.where(boweryData['venue'] == \"Fête Music Hall - Lounge\", \"Fete Music Hall\", \n",
    "                 np.where(boweryData['venue'] == \"Rams Head Live!\", \"Rams Head Live\",\n",
    "                         np.where(boweryData['venue'] == \"Royale\", \"Royale Boston\",\n",
    "                                  np.where(boweryData['venue'] == \"The EARL\", \"The Earl\",\n",
    "                                           np.where(boweryData['venue'] == \"The norva\", \"The Norva\", boweryData['venue']\n",
    "                                 ))))))"
   ]
  },
  {
   "cell_type": "code",
   "execution_count": 173,
   "metadata": {},
   "outputs": [
    {
     "name": "stderr",
     "output_type": "stream",
     "text": [
      "/anaconda3/lib/python3.6/site-packages/pandas/core/generic.py:3110: SettingWithCopyWarning: \n",
      "A value is trying to be set on a copy of a slice from a DataFrame.\n",
      "Try using .loc[row_indexer,col_indexer] = value instead\n",
      "\n",
      "See the caveats in the documentation: http://pandas.pydata.org/pandas-docs/stable/indexing.html#indexing-view-versus-copy\n",
      "  self[name] = value\n"
     ]
    }
   ],
   "source": [
    "boweryData.venue = mergeVenues"
   ]
  },
  {
   "cell_type": "code",
   "execution_count": 175,
   "metadata": {},
   "outputs": [
    {
     "data": {
      "text/plain": [
       "venue\n",
       "Aisle 5                        5\n",
       "Brooklyn Steel                43\n",
       "Fete Music Hall                9\n",
       "Gasa Gasa                     17\n",
       "Great Scott                   50\n",
       "Music Hall of Williamsburg    38\n",
       "Rams Head Live                22\n",
       "Rough Trade NYC               44\n",
       "Royale Boston                 19\n",
       "Saturn                        27\n",
       "Starland Ballroom              6\n",
       "Terminal 5                     7\n",
       "Terminal West                  9\n",
       "The Earl                       6\n",
       "The National                  31\n",
       "The Norva                     28\n",
       "The Sinclair                  55\n",
       "Underground Arts              14\n",
       "Variety Playhouse              7\n",
       "dtype: int64"
      ]
     },
     "execution_count": 175,
     "metadata": {},
     "output_type": "execute_result"
    }
   ],
   "source": [
    "vg = boweryData.groupby('venue')\n",
    "vg.size()"
   ]
  },
  {
   "cell_type": "code",
   "execution_count": 154,
   "metadata": {},
   "outputs": [
    {
     "data": {
      "text/plain": [
       "venue\n",
       "Aisle 5                       43\n",
       "Brooklyn Steel                61\n",
       "Fete Music Hall               12\n",
       "Gasa Gasa                     23\n",
       "Great Scott                   30\n",
       "Music Hall of Williamsburg    37\n",
       "Rams Head Live                30\n",
       "Rough Trade NYC               45\n",
       "Royale Boston                 36\n",
       "Saturn                        39\n",
       "Starland Ballroom             15\n",
       "Terminal 5                    15\n",
       "Terminal West                 40\n",
       "The Earl                       8\n",
       "The National                  44\n",
       "The Norva                     33\n",
       "The Sinclair                  65\n",
       "Underground Arts              26\n",
       "Variety Playhouse             33\n",
       "dtype: int64"
      ]
     },
     "execution_count": 154,
     "metadata": {},
     "output_type": "execute_result"
    }
   ],
   "source": [
    "SGvenues = seatgeek.groupby('venue')\n",
    "SGvenues.size()"
   ]
  },
  {
   "cell_type": "code",
   "execution_count": 194,
   "metadata": {
    "collapsed": true
   },
   "outputs": [],
   "source": [
    "from dateutil.parser import parse\n",
    "def parse_time(x):\n",
    "    empty_list = []\n",
    "    for i in x:\n",
    "        #parse(i)\n",
    "        empty_list.append(parse(i))\n",
    "    return empty_list\n",
    "    "
   ]
  },
  {
   "cell_type": "code",
   "execution_count": 195,
   "metadata": {},
   "outputs": [
    {
     "name": "stderr",
     "output_type": "stream",
     "text": [
      "/anaconda3/lib/python3.6/site-packages/ipykernel_launcher.py:1: SettingWithCopyWarning: \n",
      "A value is trying to be set on a copy of a slice from a DataFrame.\n",
      "Try using .loc[row_indexer,col_indexer] = value instead\n",
      "\n",
      "See the caveats in the documentation: http://pandas.pydata.org/pandas-docs/stable/indexing.html#indexing-view-versus-copy\n",
      "  \"\"\"Entry point for launching an IPython kernel.\n",
      "/anaconda3/lib/python3.6/site-packages/ipykernel_launcher.py:2: SettingWithCopyWarning: \n",
      "A value is trying to be set on a copy of a slice from a DataFrame.\n",
      "Try using .loc[row_indexer,col_indexer] = value instead\n",
      "\n",
      "See the caveats in the documentation: http://pandas.pydata.org/pandas-docs/stable/indexing.html#indexing-view-versus-copy\n",
      "  \n"
     ]
    }
   ],
   "source": [
    "boweryData['mergeDay'] = [i.day for i in boweryData.date]\n",
    "boweryData['mergeMonth'] = [i.month for i in boweryData.date]"
   ]
  },
  {
   "cell_type": "code",
   "execution_count": 196,
   "metadata": {},
   "outputs": [],
   "source": [
    "seatgeek.date = parse_time(seatgeek.date)"
   ]
  },
  {
   "cell_type": "code",
   "execution_count": 199,
   "metadata": {
    "collapsed": true
   },
   "outputs": [],
   "source": [
    "seatgeek['mergeDay'] = [i.day for i in seatgeek.date]\n",
    "seatgeek['mergeMonth'] = [i.month for i in seatgeek.date]"
   ]
  },
  {
   "cell_type": "code",
   "execution_count": 202,
   "metadata": {},
   "outputs": [],
   "source": [
    "# merge bowery and seatgeek\n",
    "final = pd.merge(boweryData, seatgeek,  how='left', on = ['mergeDay', 'mergeMonth', 'venue'])"
   ]
  },
  {
   "cell_type": "code",
   "execution_count": 207,
   "metadata": {},
   "outputs": [],
   "source": [
    "# drop false spotify match\n",
    "final = final[final.artist_name_y != \"Kung Fu\"]"
   ]
  },
  {
   "cell_type": "code",
   "execution_count": 211,
   "metadata": {},
   "outputs": [],
   "source": [
    "final['secondary_price']= np.where(final['price'].isnull(), final['primary_price'],\n",
    "                                   np.where(final['price'] == \"No_resale\", final['primary_price'], final['price']))\n",
    "\n",
    "\n"
   ]
  },
  {
   "cell_type": "code",
   "execution_count": 213,
   "metadata": {},
   "outputs": [],
   "source": [
    "final['mark_up'] = ((final.secondary_price / final.primary_price) -1)*100"
   ]
  },
  {
   "cell_type": "code",
   "execution_count": 217,
   "metadata": {},
   "outputs": [
    {
     "data": {
      "text/plain": [
       "281.80342592968259"
      ]
     },
     "execution_count": 217,
     "metadata": {},
     "output_type": "execute_result"
    }
   ],
   "source": [
    "final.mark_up.mean()"
   ]
  },
  {
   "cell_type": "code",
   "execution_count": 377,
   "metadata": {},
   "outputs": [],
   "source": [
    "venuesDict = {'Aisle 5': 200,\n",
    " 'Brooklyn Steel': 1800,\n",
    " 'Fete Music Hall': 500,\n",
    " 'Gasa Gasa': 200,\n",
    " 'Great Scott': 240,\n",
    " 'Music Hall of Williamsburg': 650,\n",
    " 'Rams Head Live': 1500,\n",
    " 'Rough Trade NYC': 300,\n",
    " 'Royale Boston': 1000,\n",
    " 'Saturn': 500,\n",
    " 'Starland Ballroom': 2000,\n",
    " 'Terminal 5': 3000,\n",
    " 'Terminal West': 600,\n",
    " 'The Earl': 300,\n",
    " 'The National': 1500,\n",
    " 'The Norva': 1500,\n",
    " 'The Sinclair': 525,\n",
    " 'Underground Arts': 600,\n",
    " 'Variety Playhouse': 1000}"
   ]
  },
  {
   "cell_type": "code",
   "execution_count": 404,
   "metadata": {},
   "outputs": [],
   "source": [
    "keys = pd.DataFrame(list(venuesDict.keys()))\n",
    "values = pd.DataFrame(list(venuesDict.values()))\n",
    "capacity = pd.concat([keys, values], axis=1)\n",
    "capacity.columns = ['venue', 'capacity']\n"
   ]
  },
  {
   "cell_type": "code",
   "execution_count": 406,
   "metadata": {},
   "outputs": [],
   "source": [
    "final = pd.merge(final, capacity,  how='left', on = 'venue')"
   ]
  },
  {
   "cell_type": "code",
   "execution_count": 411,
   "metadata": {},
   "outputs": [
    {
     "name": "stdout",
     "output_type": "stream",
     "text": [
      "Stored 'final' (DataFrame)\n"
     ]
    }
   ],
   "source": [
    "% store final"
   ]
  },
  {
   "cell_type": "code",
   "execution_count": null,
   "metadata": {
    "collapsed": true
   },
   "outputs": [],
   "source": []
  }
 ],
 "metadata": {
  "kernelspec": {
   "display_name": "Python 3",
   "language": "python",
   "name": "python3"
  },
  "language_info": {
   "codemirror_mode": {
    "name": "ipython",
    "version": 3
   },
   "file_extension": ".py",
   "mimetype": "text/x-python",
   "name": "python",
   "nbconvert_exporter": "python",
   "pygments_lexer": "ipython3",
   "version": "3.6.3"
  }
 },
 "nbformat": 4,
 "nbformat_minor": 2
}
